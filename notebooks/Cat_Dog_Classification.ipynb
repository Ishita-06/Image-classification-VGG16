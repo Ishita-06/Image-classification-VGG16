{
  "nbformat": 4,
  "nbformat_minor": 0,
  "metadata": {
    "colab": {
      "provenance": [],
      "gpuType": "T4"
    },
    "kernelspec": {
      "name": "python3",
      "display_name": "Python 3"
    },
    "language_info": {
      "name": "python"
    },
    "accelerator": "GPU"
  },
  "cells": [
    {
      "cell_type": "code",
      "execution_count": 1,
      "metadata": {
        "colab": {
          "base_uri": "https://localhost:8080/"
        },
        "id": "yXD8_uU7Xzcm",
        "outputId": "db442fcb-2c28-4bf8-93de-f4d4a4e3c53a"
      },
      "outputs": [
        {
          "output_type": "stream",
          "name": "stdout",
          "text": [
            "Mon Jun 24 08:33:23 2024       \n",
            "+---------------------------------------------------------------------------------------+\n",
            "| NVIDIA-SMI 535.104.05             Driver Version: 535.104.05   CUDA Version: 12.2     |\n",
            "|-----------------------------------------+----------------------+----------------------+\n",
            "| GPU  Name                 Persistence-M | Bus-Id        Disp.A | Volatile Uncorr. ECC |\n",
            "| Fan  Temp   Perf          Pwr:Usage/Cap |         Memory-Usage | GPU-Util  Compute M. |\n",
            "|                                         |                      |               MIG M. |\n",
            "|=========================================+======================+======================|\n",
            "|   0  Tesla T4                       Off | 00000000:00:04.0 Off |                    0 |\n",
            "| N/A   66C    P8              12W /  70W |      0MiB / 15360MiB |      0%      Default |\n",
            "|                                         |                      |                  N/A |\n",
            "+-----------------------------------------+----------------------+----------------------+\n",
            "                                                                                         \n",
            "+---------------------------------------------------------------------------------------+\n",
            "| Processes:                                                                            |\n",
            "|  GPU   GI   CI        PID   Type   Process name                            GPU Memory |\n",
            "|        ID   ID                                                             Usage      |\n",
            "|=======================================================================================|\n",
            "|  No running processes found                                                           |\n",
            "+---------------------------------------------------------------------------------------+\n"
          ]
        }
      ],
      "source": [
        "!nvidia-smi"
      ]
    },
    {
      "cell_type": "code",
      "source": [
        "import tensorflow as tf\n",
        "print(tf.__version__)"
      ],
      "metadata": {
        "colab": {
          "base_uri": "https://localhost:8080/"
        },
        "id": "B66x1IPCYHPs",
        "outputId": "31412de0-78e3-48be-ddc0-ea45fe2418a9"
      },
      "execution_count": 2,
      "outputs": [
        {
          "output_type": "stream",
          "name": "stdout",
          "text": [
            "2.15.0\n"
          ]
        }
      ]
    },
    {
      "cell_type": "code",
      "source": [
        "# import the libraries as shown below\n",
        "\n",
        "from tensorflow.keras.layers import Input, Lambda, Dense, Flatten\n",
        "from tensorflow.keras.models import Model\n",
        "from tensorflow.keras.applications.vgg16 import VGG16\n",
        "from tensorflow.keras.preprocessing import image\n",
        "from tensorflow.keras.preprocessing.image import ImageDataGenerator,load_img\n",
        "from tensorflow.keras.models import Sequential\n",
        "import numpy as np\n",
        "from glob import glob"
      ],
      "metadata": {
        "id": "Ymi26r2qYQDM"
      },
      "execution_count": 71,
      "outputs": []
    },
    {
      "cell_type": "code",
      "source": [
        "from google.colab import drive\n",
        "drive.mount('/content/drive')"
      ],
      "metadata": {
        "colab": {
          "base_uri": "https://localhost:8080/"
        },
        "id": "31hQ4KZFYW5u",
        "outputId": "5dafc076-ae8f-4520-d3d6-5f5058bb2d0f"
      },
      "execution_count": 4,
      "outputs": [
        {
          "output_type": "stream",
          "name": "stdout",
          "text": [
            "Mounted at /content/drive\n"
          ]
        }
      ]
    },
    {
      "cell_type": "code",
      "source": [
        "ROOT_PATH='/content/drive/MyDrive/content'"
      ],
      "metadata": {
        "id": "IkbAx_qzYZnq"
      },
      "execution_count": 8,
      "outputs": []
    },
    {
      "cell_type": "code",
      "source": [
        "!pwd"
      ],
      "metadata": {
        "colab": {
          "base_uri": "https://localhost:8080/"
        },
        "id": "icETYfCxY7GM",
        "outputId": "e7c850fa-290d-4e8c-b5c7-db58c3e0d2ff"
      },
      "execution_count": 6,
      "outputs": [
        {
          "output_type": "stream",
          "name": "stdout",
          "text": [
            "/content\n"
          ]
        }
      ]
    },
    {
      "cell_type": "code",
      "source": [
        "import os\n",
        "os.chdir(ROOT_PATH)\n",
        "os.getcwd()"
      ],
      "metadata": {
        "colab": {
          "base_uri": "https://localhost:8080/",
          "height": 35
        },
        "id": "u_Ctza4bY-9K",
        "outputId": "cfd79aa3-a224-4304-ee4c-f9575bace3f0"
      },
      "execution_count": 10,
      "outputs": [
        {
          "output_type": "execute_result",
          "data": {
            "text/plain": [
              "'/content/drive/MyDrive/content'"
            ],
            "application/vnd.google.colaboratory.intrinsic+json": {
              "type": "string"
            }
          },
          "metadata": {},
          "execution_count": 10
        }
      ]
    },
    {
      "cell_type": "code",
      "source": [
        "!ls"
      ],
      "metadata": {
        "colab": {
          "base_uri": "https://localhost:8080/"
        },
        "id": "bMFilFvZZEcd",
        "outputId": "1c207f0f-34b7-44bc-99fa-1e29918ff22c"
      },
      "execution_count": 11,
      "outputs": [
        {
          "output_type": "stream",
          "name": "stdout",
          "text": [
            "train  validation\n"
          ]
        }
      ]
    },
    {
      "cell_type": "code",
      "source": [
        "# re-size all the images to this\n",
        "IMAGE_SIZE = [224, 224]\n",
        "\n",
        "train_path = '/content/drive/MyDrive/content/train'\n",
        "valid_path = '/content/drive/MyDrive/content/validation'\n"
      ],
      "metadata": {
        "id": "ZdXdmXnNZSy3"
      },
      "execution_count": 13,
      "outputs": []
    },
    {
      "cell_type": "code",
      "source": [
        "# Import the VGG16 library as shown below and add preprocessing layer to the front of VGG\n",
        "# Here we will be using imagenet weights\n",
        "\n",
        "vgg16 = VGG16(input_shape=IMAGE_SIZE + [3], weights='imagenet', include_top=False)\n"
      ],
      "metadata": {
        "colab": {
          "base_uri": "https://localhost:8080/"
        },
        "id": "i3-aGkiEZkNk",
        "outputId": "d7f5ec03-3905-4d95-a302-324be31254f5"
      },
      "execution_count": 14,
      "outputs": [
        {
          "output_type": "stream",
          "name": "stdout",
          "text": [
            "Downloading data from https://storage.googleapis.com/tensorflow/keras-applications/vgg16/vgg16_weights_tf_dim_ordering_tf_kernels_notop.h5\n",
            "58889256/58889256 [==============================] - 2s 0us/step\n"
          ]
        }
      ]
    },
    {
      "cell_type": "code",
      "source": [
        "# don't train existing weights\n",
        "for layer in vgg16.layers:\n",
        "  print(layer)"
      ],
      "metadata": {
        "colab": {
          "base_uri": "https://localhost:8080/"
        },
        "id": "klBWmIPFaKg3",
        "outputId": "97906c43-81a7-4d54-b524-93d2329fa5ce"
      },
      "execution_count": 15,
      "outputs": [
        {
          "output_type": "stream",
          "name": "stdout",
          "text": [
            "<keras.src.engine.input_layer.InputLayer object at 0x7a0036a7e7d0>\n",
            "<keras.src.layers.convolutional.conv2d.Conv2D object at 0x7a0036a7c970>\n",
            "<keras.src.layers.convolutional.conv2d.Conv2D object at 0x7a0036a7dde0>\n",
            "<keras.src.layers.pooling.max_pooling2d.MaxPooling2D object at 0x7a00368e4b20>\n",
            "<keras.src.layers.convolutional.conv2d.Conv2D object at 0x7a00c7192e00>\n",
            "<keras.src.layers.convolutional.conv2d.Conv2D object at 0x7a00368e5930>\n",
            "<keras.src.layers.pooling.max_pooling2d.MaxPooling2D object at 0x7a00368e6770>\n",
            "<keras.src.layers.convolutional.conv2d.Conv2D object at 0x7a00368e6fe0>\n",
            "<keras.src.layers.convolutional.conv2d.Conv2D object at 0x7a00368e77c0>\n",
            "<keras.src.layers.convolutional.conv2d.Conv2D object at 0x7a00368e6dd0>\n",
            "<keras.src.layers.pooling.max_pooling2d.MaxPooling2D object at 0x7a0035f5d450>\n",
            "<keras.src.layers.convolutional.conv2d.Conv2D object at 0x7a0035f5db70>\n",
            "<keras.src.layers.convolutional.conv2d.Conv2D object at 0x7a0035f5e290>\n",
            "<keras.src.layers.convolutional.conv2d.Conv2D object at 0x7a0035f5d810>\n",
            "<keras.src.layers.pooling.max_pooling2d.MaxPooling2D object at 0x7a0035f5fd30>\n",
            "<keras.src.layers.convolutional.conv2d.Conv2D object at 0x7a0035f5ca30>\n",
            "<keras.src.layers.convolutional.conv2d.Conv2D object at 0x7a0035f5eda0>\n",
            "<keras.src.layers.convolutional.conv2d.Conv2D object at 0x7a0035f5ed40>\n",
            "<keras.src.layers.pooling.max_pooling2d.MaxPooling2D object at 0x7a0035f75390>\n"
          ]
        }
      ]
    },
    {
      "cell_type": "code",
      "source": [
        "# don't train existing weights\n",
        "for layer in vgg16.layers:\n",
        "    layer.trainable = False"
      ],
      "metadata": {
        "id": "a93tm96HaNxD"
      },
      "execution_count": 16,
      "outputs": []
    },
    {
      "cell_type": "code",
      "source": [
        "for layer in vgg16.layers:\n",
        "  print(layer.name,layer.trainable)"
      ],
      "metadata": {
        "colab": {
          "base_uri": "https://localhost:8080/"
        },
        "id": "2hlLMzdgaQvJ",
        "outputId": "3a19eaf8-bf0c-4bc4-b564-3acbd70f67c7"
      },
      "execution_count": 17,
      "outputs": [
        {
          "output_type": "stream",
          "name": "stdout",
          "text": [
            "input_1 False\n",
            "block1_conv1 False\n",
            "block1_conv2 False\n",
            "block1_pool False\n",
            "block2_conv1 False\n",
            "block2_conv2 False\n",
            "block2_pool False\n",
            "block3_conv1 False\n",
            "block3_conv2 False\n",
            "block3_conv3 False\n",
            "block3_pool False\n",
            "block4_conv1 False\n",
            "block4_conv2 False\n",
            "block4_conv3 False\n",
            "block4_pool False\n",
            "block5_conv1 False\n",
            "block5_conv2 False\n",
            "block5_conv3 False\n",
            "block5_pool False\n"
          ]
        }
      ]
    },
    {
      "cell_type": "code",
      "source": [
        "vgg16.summary()"
      ],
      "metadata": {
        "colab": {
          "base_uri": "https://localhost:8080/"
        },
        "id": "dSuEp9Y3aTQB",
        "outputId": "4731edf4-0cdc-4623-dcc5-a8ad54371afc"
      },
      "execution_count": 18,
      "outputs": [
        {
          "output_type": "stream",
          "name": "stdout",
          "text": [
            "Model: \"vgg16\"\n",
            "_________________________________________________________________\n",
            " Layer (type)                Output Shape              Param #   \n",
            "=================================================================\n",
            " input_1 (InputLayer)        [(None, 224, 224, 3)]     0         \n",
            "                                                                 \n",
            " block1_conv1 (Conv2D)       (None, 224, 224, 64)      1792      \n",
            "                                                                 \n",
            " block1_conv2 (Conv2D)       (None, 224, 224, 64)      36928     \n",
            "                                                                 \n",
            " block1_pool (MaxPooling2D)  (None, 112, 112, 64)      0         \n",
            "                                                                 \n",
            " block2_conv1 (Conv2D)       (None, 112, 112, 128)     73856     \n",
            "                                                                 \n",
            " block2_conv2 (Conv2D)       (None, 112, 112, 128)     147584    \n",
            "                                                                 \n",
            " block2_pool (MaxPooling2D)  (None, 56, 56, 128)       0         \n",
            "                                                                 \n",
            " block3_conv1 (Conv2D)       (None, 56, 56, 256)       295168    \n",
            "                                                                 \n",
            " block3_conv2 (Conv2D)       (None, 56, 56, 256)       590080    \n",
            "                                                                 \n",
            " block3_conv3 (Conv2D)       (None, 56, 56, 256)       590080    \n",
            "                                                                 \n",
            " block3_pool (MaxPooling2D)  (None, 28, 28, 256)       0         \n",
            "                                                                 \n",
            " block4_conv1 (Conv2D)       (None, 28, 28, 512)       1180160   \n",
            "                                                                 \n",
            " block4_conv2 (Conv2D)       (None, 28, 28, 512)       2359808   \n",
            "                                                                 \n",
            " block4_conv3 (Conv2D)       (None, 28, 28, 512)       2359808   \n",
            "                                                                 \n",
            " block4_pool (MaxPooling2D)  (None, 14, 14, 512)       0         \n",
            "                                                                 \n",
            " block5_conv1 (Conv2D)       (None, 14, 14, 512)       2359808   \n",
            "                                                                 \n",
            " block5_conv2 (Conv2D)       (None, 14, 14, 512)       2359808   \n",
            "                                                                 \n",
            " block5_conv3 (Conv2D)       (None, 14, 14, 512)       2359808   \n",
            "                                                                 \n",
            " block5_pool (MaxPooling2D)  (None, 7, 7, 512)         0         \n",
            "                                                                 \n",
            "=================================================================\n",
            "Total params: 14714688 (56.13 MB)\n",
            "Trainable params: 0 (0.00 Byte)\n",
            "Non-trainable params: 14714688 (56.13 MB)\n",
            "_________________________________________________________________\n"
          ]
        }
      ]
    },
    {
      "cell_type": "code",
      "source": [
        "  # useful for getting number of output classes\n",
        "folders = glob('/content/drive/MyDrive/content/train/*')"
      ],
      "metadata": {
        "id": "PCzMGNs5aYkb"
      },
      "execution_count": 19,
      "outputs": []
    },
    {
      "cell_type": "code",
      "source": [
        "folders"
      ],
      "metadata": {
        "colab": {
          "base_uri": "https://localhost:8080/"
        },
        "id": "3anDyPcvajFR",
        "outputId": "bf15fbd7-6491-476e-dfe1-a6daf882d124"
      },
      "execution_count": 20,
      "outputs": [
        {
          "output_type": "execute_result",
          "data": {
            "text/plain": [
              "['/content/drive/MyDrive/content/train/Dog',\n",
              " '/content/drive/MyDrive/content/train/Cat']"
            ]
          },
          "metadata": {},
          "execution_count": 20
        }
      ]
    },
    {
      "cell_type": "code",
      "source": [
        "len(folders)"
      ],
      "metadata": {
        "colab": {
          "base_uri": "https://localhost:8080/"
        },
        "id": "_5tWO08qala-",
        "outputId": "51d421d7-8d16-4c40-d42d-6c2fd1d357c0"
      },
      "execution_count": 21,
      "outputs": [
        {
          "output_type": "execute_result",
          "data": {
            "text/plain": [
              "2"
            ]
          },
          "metadata": {},
          "execution_count": 21
        }
      ]
    },
    {
      "cell_type": "code",
      "source": [
        "model = Sequential()\n",
        "\n",
        "model.add(vgg16)\n",
        "model.add(Flatten())\n",
        "model.add(Dense(256,activation='relu'))\n",
        "model.add(Dense(2,activation='softmax'))"
      ],
      "metadata": {
        "id": "3yV-gXjOaoFU"
      },
      "execution_count": 22,
      "outputs": []
    },
    {
      "cell_type": "code",
      "source": [
        "# view the structure of the model\n",
        "model.summary()"
      ],
      "metadata": {
        "colab": {
          "base_uri": "https://localhost:8080/"
        },
        "id": "mVjdwi0naq3w",
        "outputId": "319b8826-d9b7-4a32-c01a-48fb4fa1ad69"
      },
      "execution_count": 23,
      "outputs": [
        {
          "output_type": "stream",
          "name": "stdout",
          "text": [
            "Model: \"sequential\"\n",
            "_________________________________________________________________\n",
            " Layer (type)                Output Shape              Param #   \n",
            "=================================================================\n",
            " vgg16 (Functional)          (None, 7, 7, 512)         14714688  \n",
            "                                                                 \n",
            " flatten (Flatten)           (None, 25088)             0         \n",
            "                                                                 \n",
            " dense (Dense)               (None, 256)               6422784   \n",
            "                                                                 \n",
            " dense_1 (Dense)             (None, 2)                 514       \n",
            "                                                                 \n",
            "=================================================================\n",
            "Total params: 21137986 (80.64 MB)\n",
            "Trainable params: 6423298 (24.50 MB)\n",
            "Non-trainable params: 14714688 (56.13 MB)\n",
            "_________________________________________________________________\n"
          ]
        }
      ]
    },
    {
      "cell_type": "code",
      "source": [
        "# tell the model what cost and optimization method to use\n",
        "model.compile(\n",
        "  loss='categorical_crossentropy',\n",
        "  optimizer='adam',\n",
        "  metrics=['accuracy']\n",
        ")\n"
      ],
      "metadata": {
        "id": "VGmb0BcKathG"
      },
      "execution_count": 24,
      "outputs": []
    },
    {
      "cell_type": "code",
      "source": [
        "# Use the Image Data Generator to import the images from the dataset\n",
        "from tensorflow.keras.preprocessing.image import ImageDataGenerator\n",
        "\n",
        "train_datagen = ImageDataGenerator(rescale = 1./255,\n",
        "                                   shear_range = 0.2,\n",
        "                                   zoom_range = 0.2,\n",
        "                                   horizontal_flip = True)\n",
        "\n",
        "test_datagen = ImageDataGenerator(rescale = 1./255)"
      ],
      "metadata": {
        "id": "GKyLL6LnawUk"
      },
      "execution_count": 25,
      "outputs": []
    },
    {
      "cell_type": "code",
      "source": [
        "!pwd"
      ],
      "metadata": {
        "colab": {
          "base_uri": "https://localhost:8080/"
        },
        "id": "hl_Z7Jl4ay9V",
        "outputId": "016b820f-5547-4b81-c528-8fa85ae78030"
      },
      "execution_count": 26,
      "outputs": [
        {
          "output_type": "stream",
          "name": "stdout",
          "text": [
            "/content/drive/MyDrive/content\n"
          ]
        }
      ]
    },
    {
      "cell_type": "code",
      "source": [
        "# Make sure you provide the same target size as initialied for the image size\n",
        "training_set = train_datagen.flow_from_directory('/content/drive/MyDrive/content/train',\n",
        "                                                 target_size = (224, 224),\n",
        "                                                 batch_size = 32,\n",
        "                                                 class_mode = 'categorical')"
      ],
      "metadata": {
        "colab": {
          "base_uri": "https://localhost:8080/"
        },
        "id": "142lfG98a1tp",
        "outputId": "afcc56a3-9400-4531-96d0-0c0a25da7abb"
      },
      "execution_count": 28,
      "outputs": [
        {
          "output_type": "stream",
          "name": "stdout",
          "text": [
            "Found 337 images belonging to 2 classes.\n"
          ]
        }
      ]
    },
    {
      "cell_type": "code",
      "source": [
        "test_set = test_datagen.flow_from_directory('/content/drive/MyDrive/content/validation',\n",
        "                                            target_size = (224, 224),\n",
        "                                            batch_size = 32,\n",
        "                                            class_mode = 'categorical')"
      ],
      "metadata": {
        "colab": {
          "base_uri": "https://localhost:8080/"
        },
        "id": "m38oo3X9a4bt",
        "outputId": "1f380bb8-e134-4d4f-ad15-4f3fa348c740"
      },
      "execution_count": 29,
      "outputs": [
        {
          "output_type": "stream",
          "name": "stdout",
          "text": [
            "Found 59 images belonging to 2 classes.\n"
          ]
        }
      ]
    },
    {
      "cell_type": "code",
      "source": [
        "# fit the model\n",
        "# Run the cell. It will take some time to execute\n",
        "r = model.fit(\n",
        "  training_set,\n",
        "  validation_data=test_set,\n",
        "  epochs=10,\n",
        "  steps_per_epoch=len(training_set),\n",
        "  validation_steps=len(test_set)\n",
        ")"
      ],
      "metadata": {
        "colab": {
          "base_uri": "https://localhost:8080/"
        },
        "id": "WXEqI5tabE7E",
        "outputId": "516c2b92-3fb3-4514-c49e-3f156ab717c5"
      },
      "execution_count": 30,
      "outputs": [
        {
          "output_type": "stream",
          "name": "stdout",
          "text": [
            "Epoch 1/10\n",
            "11/11 [==============================] - 141s 13s/step - loss: 4.2688 - accuracy: 0.5163 - val_loss: 0.3739 - val_accuracy: 0.8475\n",
            "Epoch 2/10\n",
            "11/11 [==============================] - 7s 653ms/step - loss: 0.4038 - accuracy: 0.8190 - val_loss: 0.3903 - val_accuracy: 0.8644\n",
            "Epoch 3/10\n",
            "11/11 [==============================] - 7s 624ms/step - loss: 0.2482 - accuracy: 0.8783 - val_loss: 0.3668 - val_accuracy: 0.8644\n",
            "Epoch 4/10\n",
            "11/11 [==============================] - 6s 515ms/step - loss: 0.2260 - accuracy: 0.9080 - val_loss: 0.3760 - val_accuracy: 0.8305\n",
            "Epoch 5/10\n",
            "11/11 [==============================] - 6s 580ms/step - loss: 0.1281 - accuracy: 0.9585 - val_loss: 0.3762 - val_accuracy: 0.8475\n",
            "Epoch 6/10\n",
            "11/11 [==============================] - 6s 500ms/step - loss: 0.0943 - accuracy: 0.9614 - val_loss: 0.4137 - val_accuracy: 0.8475\n",
            "Epoch 7/10\n",
            "11/11 [==============================] - 6s 504ms/step - loss: 0.0761 - accuracy: 0.9763 - val_loss: 0.3866 - val_accuracy: 0.8475\n",
            "Epoch 8/10\n",
            "11/11 [==============================] - 6s 542ms/step - loss: 0.0626 - accuracy: 0.9881 - val_loss: 0.4017 - val_accuracy: 0.8475\n",
            "Epoch 9/10\n",
            "11/11 [==============================] - 6s 592ms/step - loss: 0.0559 - accuracy: 0.9881 - val_loss: 0.3810 - val_accuracy: 0.8305\n",
            "Epoch 10/10\n",
            "11/11 [==============================] - 6s 504ms/step - loss: 0.0382 - accuracy: 0.9970 - val_loss: 0.3838 - val_accuracy: 0.8475\n"
          ]
        }
      ]
    },
    {
      "cell_type": "code",
      "source": [
        "import matplotlib.pyplot as plt"
      ],
      "metadata": {
        "id": "dlWuNh9ybH14"
      },
      "execution_count": 31,
      "outputs": []
    },
    {
      "cell_type": "code",
      "source": [
        "# plot the loss\n",
        "plt.plot(r.history['loss'], label='train loss')\n",
        "plt.plot(r.history['val_loss'], label='val loss')\n",
        "plt.legend()\n",
        "plt.show()\n",
        "plt.savefig('LossVal_loss')"
      ],
      "metadata": {
        "colab": {
          "base_uri": "https://localhost:8080/",
          "height": 447
        },
        "id": "XazoaSI5cH4B",
        "outputId": "81aedda0-7df4-4e0f-893e-797d2e9dcced"
      },
      "execution_count": 32,
      "outputs": [
        {
          "output_type": "display_data",
          "data": {
            "text/plain": [
              "<Figure size 640x480 with 1 Axes>"
            ],
            "image/png": "[encoded data removed]"
          },
          "metadata": {}
        },
        {
          "output_type": "display_data",
          "data": {
            "text/plain": [
              "<Figure size 640x480 with 0 Axes>"
            ]
          },
          "metadata": {}
        }
      ]
    },
    {
      "cell_type": "code",
      "source": [
        "# plot the accuracy\n",
        "plt.plot(r.history['accuracy'], label='train acc')\n",
        "plt.plot(r.history['val_accuracy'], label='val acc')\n",
        "plt.legend()\n",
        "plt.show()\n",
        "plt.savefig('AccVal_acc')"
      ],
      "metadata": {
        "colab": {
          "base_uri": "https://localhost:8080/",
          "height": 447
        },
        "id": "4lWHTqHNcKJy",
        "outputId": "66b37204-fbc2-4bf1-9117-5ebb0e232d2c"
      },
      "execution_count": 33,
      "outputs": [
        {
          "output_type": "display_data",
          "data": {
            "text/plain": [
              "<Figure size 640x480 with 1 Axes>"
            ],
            "image/png": "[encoded data removed]"
          },
          "metadata": {}
        },
        {
          "output_type": "display_data",
          "data": {
            "text/plain": [
              "<Figure size 640x480 with 0 Axes>"
            ]
          },
          "metadata": {}
        }
      ]
    },
    {
      "cell_type": "code",
      "source": [
        "# save it as a h5 file\n",
        "from tensorflow.keras.models import load_model\n",
        "\n",
        "model.save('model_vgg16.h5')"
      ],
      "metadata": {
        "colab": {
          "base_uri": "https://localhost:8080/"
        },
        "id": "LUIti4iGcNJK",
        "outputId": "0f463f20-6257-429a-85e8-18cb8b1d7139"
      },
      "execution_count": 34,
      "outputs": [
        {
          "output_type": "stream",
          "name": "stderr",
          "text": [
            "/usr/local/lib/python3.10/dist-packages/keras/src/engine/training.py:3103: UserWarning: You are saving your model as an HDF5 file via `model.save()`. This file format is considered legacy. We recommend using instead the native Keras format, e.g. `model.save('my_model.keras')`.\n",
            "  saving_api.save_model(\n"
          ]
        }
      ]
    },
    {
      "cell_type": "code",
      "source": [
        "y_pred = model.predict(test_set)"
      ],
      "metadata": {
        "colab": {
          "base_uri": "https://localhost:8080/"
        },
        "id": "CI8T6zmLcQ7V",
        "outputId": "5cede626-7826-45e1-b2b9-3c3b8c75d768"
      },
      "execution_count": 35,
      "outputs": [
        {
          "output_type": "stream",
          "name": "stdout",
          "text": [
            "2/2 [==============================] - 0s 163ms/step\n"
          ]
        }
      ]
    },
    {
      "cell_type": "code",
      "source": [
        "y_pred"
      ],
      "metadata": {
        "colab": {
          "base_uri": "https://localhost:8080/"
        },
        "id": "aLm9JJpbcW68",
        "outputId": "5d575759-afb6-4691-a128-dce83e46c34e"
      },
      "execution_count": 36,
      "outputs": [
        {
          "output_type": "execute_result",
          "data": {
            "text/plain": [
              "array([[3.4481031e-01, 6.5518969e-01],\n",
              "       [9.9835432e-01, 1.6457511e-03],\n",
              "       [8.1828088e-01, 1.8171914e-01],\n",
              "       [9.5176810e-01, 4.8231926e-02],\n",
              "       [9.2477447e-01, 7.5225532e-02],\n",
              "       [3.0875165e-04, 9.9969125e-01],\n",
              "       [9.9498248e-01, 5.0174682e-03],\n",
              "       [5.1041639e-01, 4.8958355e-01],\n",
              "       [1.8465092e-02, 9.8153496e-01],\n",
              "       [1.2695599e-01, 8.7304395e-01],\n",
              "       [7.4472837e-03, 9.9255270e-01],\n",
              "       [1.8216641e-01, 8.1783354e-01],\n",
              "       [9.9875402e-01, 1.2460083e-03],\n",
              "       [9.9948752e-01, 5.1249727e-04],\n",
              "       [7.9167194e-06, 9.9999213e-01],\n",
              "       [5.2253652e-02, 9.4774634e-01],\n",
              "       [1.0552085e-03, 9.9894482e-01],\n",
              "       [1.0866719e-01, 8.9133286e-01],\n",
              "       [5.8416312e-04, 9.9941587e-01],\n",
              "       [5.6513524e-01, 4.3486476e-01],\n",
              "       [9.2883307e-01, 7.1166962e-02],\n",
              "       [5.2840082e-10, 1.0000000e+00],\n",
              "       [8.3863395e-01, 1.6136603e-01],\n",
              "       [9.9950588e-01, 4.9411284e-04],\n",
              "       [9.8701686e-01, 1.2983164e-02],\n",
              "       [5.7615602e-05, 9.9994242e-01],\n",
              "       [9.7675836e-01, 2.3241572e-02],\n",
              "       [8.7114191e-01, 1.2885804e-01],\n",
              "       [9.0208434e-04, 9.9909794e-01],\n",
              "       [9.9727637e-01, 2.7236051e-03],\n",
              "       [9.8894006e-01, 1.1059934e-02],\n",
              "       [1.4029790e-02, 9.8597020e-01],\n",
              "       [2.8918948e-02, 9.7108108e-01],\n",
              "       [1.2091253e-02, 9.8790878e-01],\n",
              "       [9.9774808e-01, 2.2518514e-03],\n",
              "       [5.8101183e-01, 4.1898814e-01],\n",
              "       [9.7837561e-01, 2.1624390e-02],\n",
              "       [4.1330896e-02, 9.5866913e-01],\n",
              "       [1.5765234e-05, 9.9998426e-01],\n",
              "       [1.6560266e-02, 9.8343974e-01],\n",
              "       [9.1904563e-01, 8.0954410e-02],\n",
              "       [4.6684399e-01, 5.3315604e-01],\n",
              "       [9.9649602e-01, 3.5039946e-03],\n",
              "       [9.9266315e-01, 7.3368400e-03],\n",
              "       [7.1226088e-03, 9.9287742e-01],\n",
              "       [8.0234237e-02, 9.1976577e-01],\n",
              "       [9.6115464e-01, 3.8845308e-02],\n",
              "       [9.6881479e-01, 3.1185165e-02],\n",
              "       [4.1903794e-01, 5.8096206e-01],\n",
              "       [9.8125643e-01, 1.8743642e-02],\n",
              "       [6.5717146e-02, 9.3428284e-01],\n",
              "       [2.2854015e-01, 7.7145982e-01],\n",
              "       [4.0270317e-02, 9.5972961e-01],\n",
              "       [9.8543650e-01, 1.4563543e-02],\n",
              "       [7.8015524e-01, 2.1984479e-01],\n",
              "       [5.9545058e-01, 4.0454945e-01],\n",
              "       [9.7728956e-01, 2.2710394e-02],\n",
              "       [2.8412940e-05, 9.9997163e-01],\n",
              "       [1.1185204e-04, 9.9988818e-01]], dtype=float32)"
            ]
          },
          "metadata": {},
          "execution_count": 36
        }
      ]
    },
    {
      "cell_type": "code",
      "source": [
        "import numpy as np\n",
        "y_pred = np.argmax(y_pred, axis=1)"
      ],
      "metadata": {
        "id": "5uH5hYE3cZLk"
      },
      "execution_count": 37,
      "outputs": []
    },
    {
      "cell_type": "code",
      "source": [
        "y_pred"
      ],
      "metadata": {
        "colab": {
          "base_uri": "https://localhost:8080/"
        },
        "id": "6Ksrw0a1ccOr",
        "outputId": "18857af2-5129-48fd-a14e-b4a86ab788cd"
      },
      "execution_count": 38,
      "outputs": [
        {
          "output_type": "execute_result",
          "data": {
            "text/plain": [
              "array([1, 0, 0, 0, 0, 1, 0, 0, 1, 1, 1, 1, 0, 0, 1, 1, 1, 1, 1, 0, 0, 1,\n",
              "       0, 0, 0, 1, 0, 0, 1, 0, 0, 1, 1, 1, 0, 0, 0, 1, 1, 1, 0, 1, 0, 0,\n",
              "       1, 1, 0, 0, 1, 0, 1, 1, 1, 0, 0, 0, 0, 1, 1])"
            ]
          },
          "metadata": {},
          "execution_count": 38
        }
      ]
    },
    {
      "cell_type": "code",
      "source": [
        "from tensorflow.keras.models import load_model\n",
        "from tensorflow.keras.preprocessing import image"
      ],
      "metadata": {
        "id": "ED0excP1cdLr"
      },
      "execution_count": 39,
      "outputs": []
    },
    {
      "cell_type": "code",
      "source": [
        "model=load_model('model_vgg16.h5')"
      ],
      "metadata": {
        "id": "CcHXehANcfl7"
      },
      "execution_count": 40,
      "outputs": []
    },
    {
      "cell_type": "code",
      "source": [
        "img=image.load_img('/content/drive/MyDrive/content/cat.jgp.jpg',target_size=(224,224))"
      ],
      "metadata": {
        "id": "zTMbXuF2ch0-"
      },
      "execution_count": 43,
      "outputs": []
    },
    {
      "cell_type": "code",
      "source": [
        "x=image.img_to_array(img)\n",
        "x"
      ],
      "metadata": {
        "colab": {
          "base_uri": "https://localhost:8080/"
        },
        "id": "eMmea82Dc9uE",
        "outputId": "188bdfbb-5b62-41bd-c917-fa9a6ba6318c"
      },
      "execution_count": 44,
      "outputs": [
        {
          "output_type": "execute_result",
          "data": {
            "text/plain": [
              "array([[[220., 231., 235.],\n",
              "        [220., 231., 235.],\n",
              "        [220., 231., 235.],\n",
              "        ...,\n",
              "        [214., 223., 228.],\n",
              "        [215., 224., 229.],\n",
              "        [215., 224., 229.]],\n",
              "\n",
              "       [[220., 231., 235.],\n",
              "        [220., 231., 235.],\n",
              "        [220., 231., 235.],\n",
              "        ...,\n",
              "        [214., 223., 228.],\n",
              "        [214., 223., 228.],\n",
              "        [214., 223., 228.]],\n",
              "\n",
              "       [[220., 231., 235.],\n",
              "        [220., 231., 235.],\n",
              "        [221., 232., 236.],\n",
              "        ...,\n",
              "        [214., 223., 228.],\n",
              "        [214., 223., 228.],\n",
              "        [214., 223., 228.]],\n",
              "\n",
              "       ...,\n",
              "\n",
              "       [[207., 218., 224.],\n",
              "        [207., 218., 224.],\n",
              "        [207., 218., 224.],\n",
              "        ...,\n",
              "        [158., 160., 149.],\n",
              "        [157., 160., 149.],\n",
              "        [156., 159., 148.]],\n",
              "\n",
              "       [[207., 218., 224.],\n",
              "        [207., 218., 224.],\n",
              "        [207., 218., 224.],\n",
              "        ...,\n",
              "        [159., 161., 150.],\n",
              "        [157., 160., 149.],\n",
              "        [157., 160., 149.]],\n",
              "\n",
              "       [[208., 219., 225.],\n",
              "        [208., 219., 225.],\n",
              "        [208., 219., 225.],\n",
              "        ...,\n",
              "        [159., 161., 150.],\n",
              "        [158., 162., 148.],\n",
              "        [158., 162., 148.]]], dtype=float32)"
            ]
          },
          "metadata": {},
          "execution_count": 44
        }
      ]
    },
    {
      "cell_type": "code",
      "source": [
        "Z = plt.imread('/content/drive/MyDrive/content/cat.jgp.jpg')\n",
        "plt.imshow(Z)"
      ],
      "metadata": {
        "colab": {
          "base_uri": "https://localhost:8080/",
          "height": 452
        },
        "id": "1f1oO_rYdTMG",
        "outputId": "6b55a887-59d6-47de-d3bc-41358e88ab22"
      },
      "execution_count": 45,
      "outputs": [
        {
          "output_type": "execute_result",
          "data": {
            "text/plain": [
              "<matplotlib.image.AxesImage at 0x7a0020173580>"
            ]
          },
          "metadata": {},
          "execution_count": 45
        },
        {
          "output_type": "display_data",
          "data": {
            "text/plain": [
              "<Figure size 640x480 with 1 Axes>"
            ],
            "image/png": "[encoded data removed]"
          },
          "metadata": {}
        }
      ]
    },
    {
      "cell_type": "code",
      "source": [
        "x.shape"
      ],
      "metadata": {
        "colab": {
          "base_uri": "https://localhost:8080/"
        },
        "id": "BXLBh2UcdbO3",
        "outputId": "a5b1f6f5-6457-4f09-b5f8-6488e923f3b2"
      },
      "execution_count": 46,
      "outputs": [
        {
          "output_type": "execute_result",
          "data": {
            "text/plain": [
              "(224, 224, 3)"
            ]
          },
          "metadata": {},
          "execution_count": 46
        }
      ]
    },
    {
      "cell_type": "code",
      "source": [
        "x=x/255"
      ],
      "metadata": {
        "id": "prvjMot4dizT"
      },
      "execution_count": 47,
      "outputs": []
    },
    {
      "cell_type": "code",
      "source": [
        "from keras.applications.vgg16 import preprocess_input"
      ],
      "metadata": {
        "id": "_d8KYL2hdjWe"
      },
      "execution_count": 48,
      "outputs": []
    },
    {
      "cell_type": "code",
      "source": [
        "import numpy as np\n",
        "x=np.expand_dims(x,axis=0)\n",
        "img_data=preprocess_input(x)\n",
        "img_data.shape"
      ],
      "metadata": {
        "colab": {
          "base_uri": "https://localhost:8080/"
        },
        "id": "S9tjES62dmr0",
        "outputId": "6cf34e31-f5ac-4f0f-802c-2bb5345fe9a3"
      },
      "execution_count": 49,
      "outputs": [
        {
          "output_type": "execute_result",
          "data": {
            "text/plain": [
              "(1, 224, 224, 3)"
            ]
          },
          "metadata": {},
          "execution_count": 49
        }
      ]
    },
    {
      "cell_type": "code",
      "source": [
        "model.predict(img_data)"
      ],
      "metadata": {
        "colab": {
          "base_uri": "https://localhost:8080/"
        },
        "id": "trc5yR-ddpiv",
        "outputId": "71c988f7-b78c-4a10-ff3a-0218f72d4197"
      },
      "execution_count": 50,
      "outputs": [
        {
          "output_type": "stream",
          "name": "stdout",
          "text": [
            "1/1 [==============================] - 1s 1s/step\n"
          ]
        },
        {
          "output_type": "execute_result",
          "data": {
            "text/plain": [
              "array([[0.98278934, 0.01721074]], dtype=float32)"
            ]
          },
          "metadata": {},
          "execution_count": 50
        }
      ]
    },
    {
      "cell_type": "code",
      "source": [
        "result = np.argmax(model.predict(img_data), axis=1)"
      ],
      "metadata": {
        "colab": {
          "base_uri": "https://localhost:8080/"
        },
        "id": "H3zs5zzJdrsj",
        "outputId": "bc319e2f-0537-42c4-cc2c-199cbc9f7b02"
      },
      "execution_count": 51,
      "outputs": [
        {
          "output_type": "stream",
          "name": "stdout",
          "text": [
            "1/1 [==============================] - 0s 21ms/step\n"
          ]
        }
      ]
    },
    {
      "cell_type": "code",
      "source": [
        "result[0]"
      ],
      "metadata": {
        "colab": {
          "base_uri": "https://localhost:8080/"
        },
        "id": "6mdezW6Ddulm",
        "outputId": "51aaf0f4-8982-446c-88c0-3d0fb6540681"
      },
      "execution_count": 52,
      "outputs": [
        {
          "output_type": "execute_result",
          "data": {
            "text/plain": [
              "0"
            ]
          },
          "metadata": {},
          "execution_count": 52
        }
      ]
    },
    {
      "cell_type": "code",
      "source": [
        "if result[0] == 1:\n",
        "    prediction = 'dog'\n",
        "    print(prediction)\n",
        "else:\n",
        "    prediction = 'cat'\n",
        "    print(prediction)"
      ],
      "metadata": {
        "colab": {
          "base_uri": "https://localhost:8080/"
        },
        "id": "Eti2fgncdzQF",
        "outputId": "2d286c13-7f84-4d0e-fe9c-257b1756558e"
      },
      "execution_count": 53,
      "outputs": [
        {
          "output_type": "stream",
          "name": "stdout",
          "text": [
            "cat\n"
          ]
        }
      ]
    },
    {
      "cell_type": "code",
      "source": [],
      "metadata": {
        "id": "kYGIUrm1kj2D"
      },
      "execution_count": null,
      "outputs": []
    }
  ]
}